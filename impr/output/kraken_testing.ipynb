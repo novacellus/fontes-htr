{
 "cells": [
  {
   "cell_type": "code",
   "execution_count": 21,
   "id": "918d0d1e-d288-4d67-9553-ab59def72725",
   "metadata": {},
   "outputs": [],
   "source": [
    "# Segmentation issuesimport kraken\n",
    "from glob import glob\n",
    "from kraken.lib import arrow_dataset\n",
    "from kraken.lib.train import RecognitionModel, KrakenTrainer\n",
    "from kraken.contrib import extract_lines,repolygonize,segmentation_overlay"
   ]
  },
  {
   "cell_type": "code",
   "execution_count": 23,
   "id": "34650d05-583e-416a-bb29-35d1e71845c8",
   "metadata": {},
   "outputs": [],
   "source": [
    "from click.testing import CliRunner\n",
    "runner = CliRunner()\n",
    "result = runner.invoke(repolygonize.cli, \n",
    "                       ['--format-type', 'page', \n",
    "                            #'--baseline',\n",
    "                       #     '--scale', '1800',\n",
    "                            [f for f in glob('in_ext/GIELCZ_Exp/*.xml') if f.endswith('11.xml')]\n",
    "])\n",
    "\n",
    "#print(f\"Exit code: {result.exit_code}\")\n",
    "#if result.exit_code != 0:\n",
    "#    print(f\"Error: {result.exception}\")\n",
    "#else:\n",
    "#    print(\"Output:\")\n",
    "#    print(result.output)\n"
   ]
  },
  {
   "cell_type": "code",
   "execution_count": 25,
   "id": "6bb6d7a1-1235-4e61-a8c3-13df33c7580e",
   "metadata": {
    "scrolled": true
   },
   "outputs": [
    {
     "name": "stdout",
     "output_type": "stream",
     "text": [
      "Processing in_ext/GIELCZ_Exp/GIELCZ-0011.xml \n"
     ]
    }
   ],
   "source": [
    "!python kraken/kraken/contrib/repolygonize.py --format-type page in_ext/GIELCZ_Exp/GIELCZ-0011.xml"
   ]
  },
  {
   "cell_type": "code",
   "execution_count": 32,
   "id": "4bdc3dc2-3449-491b-8726-969db05ed9de",
   "metadata": {},
   "outputs": [
    {
     "name": "stdout",
     "output_type": "stream",
     "text": [
      "Processing in/GIELCZ_Exp/GIELCZ-0011.xml \u001b[32m✓\u001b[0m\n"
     ]
    }
   ],
   "source": [
    "!python kraken/kraken/contrib/segmentation_overlay.py in/GIELCZ_Exp/GIELCZ-0011.xml"
   ]
  },
  {
   "cell_type": "code",
   "execution_count": 33,
   "id": "10479c1e-5ae3-43e9-be78-1506d003fd1c",
   "metadata": {},
   "outputs": [
    {
     "name": "stdout",
     "output_type": "stream",
     "text": [
      "Processing in_ext/GIELCZ_Exp/GIELCZ-0011.xml \u001b[32m✓\u001b[0m\n"
     ]
    }
   ],
   "source": [
    "!python kraken/kraken/contrib/segmentation_overlay.py in_ext/GIELCZ_Exp/GIELCZ-0011.xml"
   ]
  },
  {
   "cell_type": "code",
   "execution_count": 35,
   "id": "23be211d-aeda-410b-8bcd-84b68a7643d5",
   "metadata": {},
   "outputs": [
    {
     "name": "stdout",
     "output_type": "stream",
     "text": [
      "Processing in_ext_repol/GIELCZ_Exp/GIELCZ-0011_rewrite.xml \u001b[32m✓\u001b[0m\n"
     ]
    }
   ],
   "source": [
    "!python kraken/kraken/contrib/segmentation_overlay.py in_ext_repol/GIELCZ_Exp/GIELCZ-0011_rewrite.xml"
   ]
  },
  {
   "cell_type": "code",
   "execution_count": 36,
   "id": "f76c5e28-7eba-4904-a1fd-0514e642c2dd",
   "metadata": {},
   "outputs": [
    {
     "name": "stdout",
     "output_type": "stream",
     "text": [
      "Processing in_ext_blla/GIELCZ_Exp/GIELCZ-0011.xml \u001b[32m✓\u001b[0m\n"
     ]
    }
   ],
   "source": [
    "!python kraken/kraken/contrib/segmentation_overlay.py in_ext_blla/GIELCZ_Exp/GIELCZ-0011.xml"
   ]
  }
 ],
 "metadata": {
  "kernelspec": {
   "display_name": "Python 3 (ipykernel)",
   "language": "python",
   "name": "python3"
  },
  "language_info": {
   "codemirror_mode": {
    "name": "ipython",
    "version": 3
   },
   "file_extension": ".py",
   "mimetype": "text/x-python",
   "name": "python",
   "nbconvert_exporter": "python",
   "pygments_lexer": "ipython3",
   "version": "3.10.16"
  }
 },
 "nbformat": 4,
 "nbformat_minor": 5
}
